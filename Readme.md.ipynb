{
 "cells": [
  {
   "cell_type": "markdown",
   "id": "aeca8d8c",
   "metadata": {},
   "source": [
    "## ¿De que vamos a hablar?"
   ]
  }
 ],
 "metadata": {
  "kernelspec": {
   "display_name": "Python [conda env:project_m1]",
   "language": "python",
   "name": "conda-env-project_m1-py"
  },
  "language_info": {
   "codemirror_mode": {
    "name": "ipython",
    "version": 3
   },
   "file_extension": ".py",
   "mimetype": "text/x-python",
   "name": "python",
   "nbconvert_exporter": "python",
   "pygments_lexer": "ipython3",
   "version": "3.9.12"
  }
 },
 "nbformat": 4,
 "nbformat_minor": 5
}
